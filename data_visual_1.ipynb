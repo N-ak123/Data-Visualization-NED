{
 "cells": [
  {
   "cell_type": "code",
   "execution_count": 1,
   "id": "78889dce-22d9-40b7-bccb-409151c21f8d",
   "metadata": {},
   "outputs": [],
   "source": [
    "import numpy as np"
   ]
  },
  {
   "cell_type": "code",
   "execution_count": 2,
   "id": "7dfd8034-470d-48d4-998e-f344295b146f",
   "metadata": {},
   "outputs": [
    {
     "data": {
      "text/plain": [
       "array([1, 2, 5, 7, 8])"
      ]
     },
     "execution_count": 2,
     "metadata": {},
     "output_type": "execute_result"
    }
   ],
   "source": [
    "arr1 = np.array([1,2,5,7,8])\n",
    "arr1"
   ]
  },
  {
   "cell_type": "code",
   "execution_count": 3,
   "id": "98616365-e2d4-4cc2-be67-f85667236396",
   "metadata": {},
   "outputs": [
    {
     "name": "stdout",
     "output_type": "stream",
     "text": [
      "[1 2 5 7 8]\n"
     ]
    }
   ],
   "source": [
    "print(arr1)"
   ]
  },
  {
   "cell_type": "code",
   "execution_count": 4,
   "id": "69ee419f-09b7-44a6-a202-b045927eb22c",
   "metadata": {},
   "outputs": [
    {
     "name": "stdout",
     "output_type": "stream",
     "text": [
      "<class 'numpy.ndarray'>\n"
     ]
    }
   ],
   "source": [
    "print(type(arr1))"
   ]
  },
  {
   "cell_type": "code",
   "execution_count": 5,
   "id": "5ad90696-1759-4c90-811a-ce9ccd85948a",
   "metadata": {},
   "outputs": [
    {
     "name": "stdout",
     "output_type": "stream",
     "text": [
      "[1 2 3 4 5]\n",
      "<class 'numpy.ndarray'>\n"
     ]
    }
   ],
   "source": [
    "# built-in functions are indentified in round brackets\n",
    "# class is member of function and member of method\n",
    "arr = np.array([1,2,3,4,5])\n",
    "print(arr)\n",
    "print(type(arr))"
   ]
  },
  {
   "cell_type": "code",
   "execution_count": 6,
   "id": "ce5053c9-5d1a-459b-b3e4-91790215fa53",
   "metadata": {},
   "outputs": [
    {
     "name": "stdout",
     "output_type": "stream",
     "text": [
      "1\n"
     ]
    }
   ],
   "source": [
    "# to check the dimension in an array\n",
    "print(arr.ndim)"
   ]
  },
  {
   "cell_type": "code",
   "execution_count": 7,
   "id": "f7575211-9193-4b2d-bbd8-246048b6f4ec",
   "metadata": {},
   "outputs": [
    {
     "name": "stdout",
     "output_type": "stream",
     "text": [
      "[[1 2 3 4]\n",
      " [4 3 5 3]]\n",
      "2\n"
     ]
    }
   ],
   "source": [
    "# set has a property that It won't allow an mutable data in it's immutable\n",
    "arr1 = np.array([[1,2,3,4], [4,3,5,3]])\n",
    "print(arr1)\n",
    "print(arr1.ndim)"
   ]
  },
  {
   "cell_type": "code",
   "execution_count": 8,
   "id": "6b406825-e550-48d1-8bf5-d50887bff0c8",
   "metadata": {},
   "outputs": [],
   "source": [
    "arr1 = np.array([[[1,2,3,4], [4,3,5,3], [7,8,9,5]]])"
   ]
  },
  {
   "cell_type": "code",
   "execution_count": 9,
   "id": "ae494e8a-2e21-4ad4-9302-f81b0cf91983",
   "metadata": {},
   "outputs": [
    {
     "name": "stdout",
     "output_type": "stream",
     "text": [
      "3\n"
     ]
    }
   ],
   "source": [
    "arr1\n",
    "print(arr1.ndim)"
   ]
  },
  {
   "cell_type": "code",
   "execution_count": 10,
   "id": "76ed8492-0ac0-4a47-aba4-6581e5b8b82c",
   "metadata": {},
   "outputs": [
    {
     "data": {
      "text/plain": [
       "array([[0., 0., 0.],\n",
       "       [0., 0., 0.]])"
      ]
     },
     "execution_count": 10,
     "metadata": {},
     "output_type": "execute_result"
    }
   ],
   "source": [
    "arr3 = np.zeros([2,3])\n",
    "arr3"
   ]
  },
  {
   "cell_type": "code",
   "execution_count": 11,
   "id": "9556ec1b-9024-478e-889c-018d5f45b281",
   "metadata": {},
   "outputs": [
    {
     "data": {
      "text/plain": [
       "array([[1., 1., 1.],\n",
       "       [1., 1., 1.]])"
      ]
     },
     "execution_count": 11,
     "metadata": {},
     "output_type": "execute_result"
    }
   ],
   "source": [
    "arr4 = np.ones([2,3])\n",
    "arr4"
   ]
  },
  {
   "cell_type": "code",
   "execution_count": 12,
   "id": "2f342c47-ce36-4fe7-917d-fbf12dff61e8",
   "metadata": {},
   "outputs": [
    {
     "data": {
      "text/plain": [
       "array([[1., 0., 0., 0.],\n",
       "       [0., 1., 0., 0.],\n",
       "       [0., 0., 1., 0.],\n",
       "       [0., 0., 0., 1.]])"
      ]
     },
     "execution_count": 12,
     "metadata": {},
     "output_type": "execute_result"
    }
   ],
   "source": [
    "arr5 = np.identity((4))\n",
    "arr5"
   ]
  },
  {
   "cell_type": "code",
   "execution_count": 13,
   "id": "54a273bd-0dc3-44b4-87f6-738dcaa3e73c",
   "metadata": {},
   "outputs": [
    {
     "data": {
      "text/plain": [
       "array([10, 13, 16, 19])"
      ]
     },
     "execution_count": 13,
     "metadata": {},
     "output_type": "execute_result"
    }
   ],
   "source": [
    "arr6 = np.arange(10,20,3)\n",
    "arr6"
   ]
  },
  {
   "cell_type": "code",
   "execution_count": 14,
   "id": "80be09c8-5f56-41e7-ab83-facb366432e8",
   "metadata": {},
   "outputs": [
    {
     "data": {
      "text/plain": [
       "array([10.        , 13.33333333, 16.66666667, 20.        ])"
      ]
     },
     "execution_count": 14,
     "metadata": {},
     "output_type": "execute_result"
    }
   ],
   "source": [
    "arr7 = np.linspace(10,20,4)\n",
    "arr7"
   ]
  },
  {
   "cell_type": "code",
   "execution_count": 15,
   "id": "9fc52117-3e52-42ac-8b19-e451460203a7",
   "metadata": {},
   "outputs": [],
   "source": [
    "arr8 = np.copy(arr4)"
   ]
  },
  {
   "cell_type": "code",
   "execution_count": 16,
   "id": "458b5d57-e4fc-4acf-a43b-e4bc47fe6842",
   "metadata": {},
   "outputs": [
    {
     "data": {
      "text/plain": [
       "array([[1., 1., 1.],\n",
       "       [1., 1., 1.]])"
      ]
     },
     "execution_count": 16,
     "metadata": {},
     "output_type": "execute_result"
    }
   ],
   "source": [
    "arr8"
   ]
  },
  {
   "cell_type": "code",
   "execution_count": 17,
   "id": "a2aebf3f-9735-4dbd-a0c5-3ef2877e6fff",
   "metadata": {},
   "outputs": [
    {
     "name": "stdout",
     "output_type": "stream",
     "text": [
      "3\n"
     ]
    }
   ],
   "source": [
    "arr9 = np.array([[[1,3],[3,4]],[[5,6],[4,6]]])\n",
    "print(arr9.ndim)"
   ]
  },
  {
   "cell_type": "code",
   "execution_count": 18,
   "id": "542efb46-3fac-41d2-88f3-8391da73cf17",
   "metadata": {},
   "outputs": [
    {
     "data": {
      "text/plain": [
       "array([[[1, 3],\n",
       "        [3, 4]],\n",
       "\n",
       "       [[5, 6],\n",
       "        [4, 6]]])"
      ]
     },
     "execution_count": 18,
     "metadata": {},
     "output_type": "execute_result"
    }
   ],
   "source": [
    "arr9"
   ]
  },
  {
   "cell_type": "code",
   "execution_count": 19,
   "id": "294eeb77-c70e-4371-b8ea-3c74a54577b8",
   "metadata": {},
   "outputs": [
    {
     "data": {
      "text/plain": [
       "(2, 2, 2)"
      ]
     },
     "execution_count": 19,
     "metadata": {},
     "output_type": "execute_result"
    }
   ],
   "source": [
    "arr9.shape"
   ]
  },
  {
   "cell_type": "code",
   "execution_count": 20,
   "id": "c8c8e3b9-532f-4675-b5aa-366ac673dfee",
   "metadata": {},
   "outputs": [
    {
     "name": "stdout",
     "output_type": "stream",
     "text": [
      "[[[[1 2]\n",
      "   [3 4]]]]\n",
      "4\n"
     ]
    }
   ],
   "source": [
    "arr10 = np.array([[[[1,2], [3,4]]]])\n",
    "print(arr10)\n",
    "print(arr10.ndim)"
   ]
  },
  {
   "cell_type": "code",
   "execution_count": 21,
   "id": "9dd80e10-1cfd-4d02-bb59-988beccb18c7",
   "metadata": {},
   "outputs": [
    {
     "data": {
      "text/plain": [
       "4"
      ]
     },
     "execution_count": 21,
     "metadata": {},
     "output_type": "execute_result"
    }
   ],
   "source": [
    "# to check the no.  elements present in an array\n",
    "arr10.size"
   ]
  },
  {
   "cell_type": "code",
   "execution_count": 22,
   "id": "b8606c28-e03e-4f3f-9a0e-dcc223442925",
   "metadata": {},
   "outputs": [
    {
     "data": {
      "text/plain": [
       "(1, 1, 2, 2)"
      ]
     },
     "execution_count": 22,
     "metadata": {},
     "output_type": "execute_result"
    }
   ],
   "source": [
    "arr10.shape"
   ]
  },
  {
   "cell_type": "code",
   "execution_count": 23,
   "id": "36d0af89-3de3-440e-87d6-b3b248664d14",
   "metadata": {},
   "outputs": [
    {
     "data": {
      "text/plain": [
       "4"
      ]
     },
     "execution_count": 23,
     "metadata": {},
     "output_type": "execute_result"
    }
   ],
   "source": [
    "arr10.itemsize"
   ]
  },
  {
   "cell_type": "code",
   "execution_count": 24,
   "id": "87bcf54a-0dc3-4ba7-aab7-44024821ecfa",
   "metadata": {},
   "outputs": [
    {
     "name": "stdout",
     "output_type": "stream",
     "text": [
      "[[[[1 2]\n",
      "   [3 4]]]]\n",
      "int32\n"
     ]
    }
   ],
   "source": [
    "print(arr10)\n",
    "print(arr10.dtype)"
   ]
  },
  {
   "cell_type": "code",
   "execution_count": 25,
   "id": "edaf61b2-94e6-4712-a192-9dad5439e558",
   "metadata": {},
   "outputs": [
    {
     "data": {
      "text/plain": [
       "array([[[[1., 2.],\n",
       "         [3., 4.]]]])"
      ]
     },
     "execution_count": 25,
     "metadata": {},
     "output_type": "execute_result"
    }
   ],
   "source": [
    "# to transform the datatype use arr.astype(\"data type to convert into\")\n",
    "arr10.astype(\"float\")"
   ]
  },
  {
   "cell_type": "code",
   "execution_count": 26,
   "id": "246dced4-1259-4950-9b51-28a1b42b5771",
   "metadata": {},
   "outputs": [],
   "source": [
    "import sys"
   ]
  },
  {
   "cell_type": "code",
   "execution_count": 27,
   "id": "f3f699d0-4e9c-46ae-a3ef-f832a0fd9817",
   "metadata": {},
   "outputs": [],
   "source": [
    "lista = range(100)\n",
    "arr1 = np.arange(100)"
   ]
  },
  {
   "cell_type": "code",
   "execution_count": 28,
   "id": "d8caf8a4-1910-4c04-8a2d-1a846a04d313",
   "metadata": {},
   "outputs": [
    {
     "name": "stdout",
     "output_type": "stream",
     "text": [
      "2800\n"
     ]
    }
   ],
   "source": [
    "print(sys.getsizeof(34)*len(lista))"
   ]
  },
  {
   "cell_type": "code",
   "execution_count": 29,
   "id": "19eb55f1-f0ab-4aba-a4c0-f6f7b4a40191",
   "metadata": {},
   "outputs": [
    {
     "name": "stdout",
     "output_type": "stream",
     "text": [
      "400\n"
     ]
    }
   ],
   "source": [
    "print(arr1.itemsize*arr1.size)"
   ]
  },
  {
   "cell_type": "markdown",
   "id": "873699c0-01ce-4f44-9101-f835bf94ef45",
   "metadata": {},
   "source": [
    "## Indexing, Slicing and Iteration"
   ]
  },
  {
   "cell_type": "code",
   "execution_count": 30,
   "id": "459961ff-323f-4aa1-90b6-b3396ad1abf2",
   "metadata": {},
   "outputs": [
    {
     "data": {
      "text/plain": [
       "array([ 0,  1,  2,  3,  4,  5,  6,  7,  8,  9, 10, 11, 12, 13, 14, 15, 16,\n",
       "       17, 18, 19, 20, 21, 22, 23])"
      ]
     },
     "execution_count": 30,
     "metadata": {},
     "output_type": "execute_result"
    }
   ],
   "source": [
    "# to reshape an array the condition should satisfy \n",
    "# if the array is of 24 elements then arr.reshape(x,y) x*y should be = 24\n",
    "arr1 = np.arange(24)\n",
    "arr1"
   ]
  },
  {
   "cell_type": "code",
   "execution_count": 31,
   "id": "6509f15f-60b2-4ec5-ad8f-3391dee6ae2a",
   "metadata": {},
   "outputs": [],
   "source": [
    "arr = arr1.reshape(6,4)"
   ]
  },
  {
   "cell_type": "code",
   "execution_count": 32,
   "id": "1057cdc5-60a2-45bf-8ccb-bd84707219d1",
   "metadata": {},
   "outputs": [
    {
     "data": {
      "text/plain": [
       "array([[ 0,  1,  2,  3],\n",
       "       [ 4,  5,  6,  7],\n",
       "       [ 8,  9, 10, 11],\n",
       "       [12, 13, 14, 15],\n",
       "       [16, 17, 18, 19],\n",
       "       [20, 21, 22, 23]])"
      ]
     },
     "execution_count": 32,
     "metadata": {},
     "output_type": "execute_result"
    }
   ],
   "source": [
    "arr"
   ]
  },
  {
   "cell_type": "code",
   "execution_count": 33,
   "id": "1ac33fe8-a844-4b68-abf1-83c1b203e1c1",
   "metadata": {},
   "outputs": [
    {
     "data": {
      "text/plain": [
       "array([2, 3])"
      ]
     },
     "execution_count": 33,
     "metadata": {},
     "output_type": "execute_result"
    }
   ],
   "source": [
    "# Slicing \n",
    "arr[0][2:]"
   ]
  },
  {
   "cell_type": "code",
   "execution_count": 34,
   "id": "bfa99f5b-4ab0-4dc9-b60b-c429a24d6649",
   "metadata": {},
   "outputs": [
    {
     "data": {
      "text/plain": [
       "array([[ 9, 10],\n",
       "       [13, 14]])"
      ]
     },
     "execution_count": 34,
     "metadata": {},
     "output_type": "execute_result"
    }
   ],
   "source": [
    "# to get an multpile items (arr[:(rows):, :(columns]\n",
    "arr[2:4,1:3]"
   ]
  },
  {
   "cell_type": "code",
   "execution_count": 35,
   "id": "a6f993f9-723a-423f-80f2-b7ae1f15a658",
   "metadata": {},
   "outputs": [
    {
     "data": {
      "text/plain": [
       "array([[16, 17],\n",
       "       [20, 21]])"
      ]
     },
     "execution_count": 35,
     "metadata": {},
     "output_type": "execute_result"
    }
   ],
   "source": [
    "arr[4:,:2]"
   ]
  },
  {
   "cell_type": "code",
   "execution_count": 36,
   "id": "c5fad238-3060-444e-bd13-6a2fd671decd",
   "metadata": {},
   "outputs": [
    {
     "data": {
      "text/plain": [
       "array([[ 9, 10],\n",
       "       [13, 14],\n",
       "       [17, 18]])"
      ]
     },
     "execution_count": 36,
     "metadata": {},
     "output_type": "execute_result"
    }
   ],
   "source": [
    "arr[2:5,1:3]"
   ]
  },
  {
   "cell_type": "code",
   "execution_count": 37,
   "id": "aa4377d1-1f7c-4bcf-89fa-a90a3e5ad1d1",
   "metadata": {},
   "outputs": [
    {
     "name": "stdout",
     "output_type": "stream",
     "text": [
      "[ 0  1  2  3  4  5  6  7  8  9 10 11 12 13 14 15 16 17 18 19 20 21 22 23\n",
      " 24 25 26 27 28 29] \n",
      "\n",
      "[[ 0  1  2  3  4  5]\n",
      " [ 6  7  8  9 10 11]\n",
      " [12 13 14 15 16 17]\n",
      " [18 19 20 21 22 23]\n",
      " [24 25 26 27 28 29]] \n",
      "\n",
      "[[ 0  1  2  3  4  5  6  7  8  9]\n",
      " [10 11 12 13 14 15 16 17 18 19]\n",
      " [20 21 22 23 24 25 26 27 28 29]] \n",
      "\n",
      "[[ 0  1]\n",
      " [ 2  3]\n",
      " [ 4  5]\n",
      " [ 6  7]\n",
      " [ 8  9]\n",
      " [10 11]\n",
      " [12 13]\n",
      " [14 15]\n",
      " [16 17]\n",
      " [18 19]\n",
      " [20 21]\n",
      " [22 23]\n",
      " [24 25]\n",
      " [26 27]\n",
      " [28 29]]\n"
     ]
    }
   ],
   "source": [
    "arr2 = np.arange(30)\n",
    "print(arr2, \"\\n\")\n",
    "print(arr2.reshape(5,6),\"\\n\")\n",
    "print(arr2.reshape(3,10), \"\\n\")\n",
    "print(arr2.reshape(15,2))"
   ]
  },
  {
   "cell_type": "code",
   "execution_count": 42,
   "id": "232f23f5-3905-417e-81d8-f2ed2448caf3",
   "metadata": {},
   "outputs": [],
   "source": [
    "arr2 = arr2.reshape(5,6)"
   ]
  },
  {
   "cell_type": "code",
   "execution_count": 43,
   "id": "b9d1f43f-0884-4e93-aaa1-27b1e25a62ea",
   "metadata": {},
   "outputs": [
    {
     "data": {
      "text/plain": [
       "array([[ 0,  1,  2,  3,  4,  5],\n",
       "       [ 6,  7,  8,  9, 10, 11],\n",
       "       [12, 13, 14, 15, 16, 17],\n",
       "       [18, 19, 20, 21, 22, 23],\n",
       "       [24, 25, 26, 27, 28, 29]])"
      ]
     },
     "execution_count": 43,
     "metadata": {},
     "output_type": "execute_result"
    }
   ],
   "source": [
    "arr2"
   ]
  },
  {
   "cell_type": "code",
   "execution_count": 46,
   "id": "58d86685-6ca9-4cfa-b861-da291faea483",
   "metadata": {},
   "outputs": [
    {
     "data": {
      "text/plain": [
       "array([[13, 14, 15, 16],\n",
       "       [19, 20, 21, 22]])"
      ]
     },
     "execution_count": 46,
     "metadata": {},
     "output_type": "execute_result"
    }
   ],
   "source": [
    "arr2[2:4, 1:5]"
   ]
  },
  {
   "cell_type": "code",
   "execution_count": 49,
   "id": "ba54cec3-3257-41ae-9c12-b09ee683d368",
   "metadata": {},
   "outputs": [
    {
     "data": {
      "text/plain": [
       "array([[ 1,  2,  3,  4],\n",
       "       [ 7,  8,  9, 10],\n",
       "       [13, 14, 15, 16],\n",
       "       [19, 20, 21, 22]])"
      ]
     },
     "execution_count": 49,
     "metadata": {},
     "output_type": "execute_result"
    }
   ],
   "source": [
    "arr2[0:4,1:5]"
   ]
  },
  {
   "cell_type": "code",
   "execution_count": 59,
   "id": "6e4287b7-6f6a-41af-9f8a-029d46a9b0cd",
   "metadata": {},
   "outputs": [
    {
     "name": "stdout",
     "output_type": "stream",
     "text": [
      "[[ 0  2  4]\n",
      " [ 6  8 10]\n",
      " [12 14 16]\n",
      " [18 20 22]\n",
      " [24 26 28]]\n"
     ]
    }
   ],
   "source": [
    "# in indexing you can also determine step size arr2[:(rows) :(stepsize), :(columns):(stepsize)]\n",
    "print(arr2[0:6,0:6:2])"
   ]
  },
  {
   "cell_type": "code",
   "execution_count": 65,
   "id": "393b11e4-9653-4443-ab9f-c6fac352bd1b",
   "metadata": {},
   "outputs": [
    {
     "name": "stdout",
     "output_type": "stream",
     "text": [
      "[[ 1  3  5]\n",
      " [13 15 17]\n",
      " [25 27 29]]\n"
     ]
    }
   ],
   "source": [
    "print(arr2[0::2,1::2])"
   ]
  },
  {
   "cell_type": "code",
   "execution_count": 68,
   "id": "5ff394bc-ed80-4053-868f-00662f5ef103",
   "metadata": {},
   "outputs": [
    {
     "data": {
      "text/plain": [
       "30"
      ]
     },
     "execution_count": 68,
     "metadata": {},
     "output_type": "execute_result"
    }
   ],
   "source": [
    "arr2.size"
   ]
  },
  {
   "cell_type": "code",
   "execution_count": 69,
   "id": "782a3b2c-e1b1-483d-a7be-8bdf6105de43",
   "metadata": {},
   "outputs": [
    {
     "data": {
      "text/plain": [
       "4"
      ]
     },
     "execution_count": 69,
     "metadata": {},
     "output_type": "execute_result"
    }
   ],
   "source": [
    "arr2.itemsize"
   ]
  },
  {
   "cell_type": "code",
   "execution_count": 70,
   "id": "90ea57ef-1c1d-461d-910b-f72b886dbdba",
   "metadata": {},
   "outputs": [
    {
     "name": "stdout",
     "output_type": "stream",
     "text": [
      "[0 1 2 3 4 5]\n",
      "[ 6  7  8  9 10 11]\n",
      "[12 13 14 15 16 17]\n",
      "[18 19 20 21 22 23]\n",
      "[24 25 26 27 28 29]\n"
     ]
    }
   ],
   "source": [
    "# to remember the loop\n",
    "# for iterator in iterable\n",
    "for i in arr2:\n",
    "    print(i)\n",
    "    "
   ]
  },
  {
   "cell_type": "code",
   "execution_count": 71,
   "id": "7a63b3ee-0a25-4dba-9bb8-472924991bdf",
   "metadata": {},
   "outputs": [
    {
     "name": "stdout",
     "output_type": "stream",
     "text": [
      "0\n",
      "1\n",
      "2\n",
      "3\n",
      "4\n",
      "5\n",
      "6\n",
      "7\n",
      "8\n",
      "9\n",
      "10\n",
      "11\n",
      "12\n",
      "13\n",
      "14\n",
      "15\n",
      "16\n",
      "17\n",
      "18\n",
      "19\n",
      "20\n",
      "21\n",
      "22\n",
      "23\n",
      "24\n",
      "25\n",
      "26\n",
      "27\n",
      "28\n",
      "29\n"
     ]
    }
   ],
   "source": [
    "# to apply filteron every pixel of image\n",
    "for i in np.nditer(arr2):\n",
    "    print(i)"
   ]
  },
  {
   "cell_type": "markdown",
   "id": "04abb3ca-5153-4785-ba3f-bf4f2dda58ca",
   "metadata": {},
   "source": [
    "# Numpy Operation"
   ]
  },
  {
   "cell_type": "code",
   "execution_count": 72,
   "id": "1218b208-0156-4530-b7b5-fc95d39bace4",
   "metadata": {},
   "outputs": [
    {
     "name": "stdout",
     "output_type": "stream",
     "text": [
      "[1 2 3 4 5 6]\n",
      "[4 5 6 7 8 9]\n"
     ]
    }
   ],
   "source": [
    "narr1 = np.array([1,2,3,4,5,6])\n",
    "narr2 = np.array([4,5,6,7,8,9])\n",
    "print(narr1)\n",
    "print(narr2)"
   ]
  },
  {
   "cell_type": "code",
   "execution_count": 78,
   "id": "f32a00ab-c488-420e-b89b-0e46d813cda4",
   "metadata": {},
   "outputs": [
    {
     "name": "stdout",
     "output_type": "stream",
     "text": [
      "[ 5  7  9 11 13 15] \n",
      "\n",
      "[-3 -3 -3 -3 -3 -3] \n",
      "\n",
      "[ 4 10 18 28 40 54] \n",
      "\n",
      "[0.25       0.4        0.5        0.57142857 0.625      0.66666667] \n",
      "\n"
     ]
    }
   ],
   "source": [
    "# Addition\n",
    "print(narr1 + narr2, \"\\n\")\n",
    "# Subtraction\n",
    "print(narr1 - narr2, \"\\n\")\n",
    "# Multiplication\n",
    "print(narr1 * narr2, \"\\n\")\n",
    "# Dividion\n",
    "print(narr1 / narr2, \"\\n\")\n"
   ]
  },
  {
   "cell_type": "code",
   "execution_count": 80,
   "id": "a2037408-232f-4a50-bba5-92db29ed0b28",
   "metadata": {},
   "outputs": [
    {
     "name": "stdout",
     "output_type": "stream",
     "text": [
      "[ 1  4  9 16 25 36]\n"
     ]
    }
   ],
   "source": [
    "print(narr1**2)"
   ]
  },
  {
   "cell_type": "code",
   "execution_count": 82,
   "id": "e72c3558-7fcf-4cc2-aadc-9cc9c08fd16a",
   "metadata": {},
   "outputs": [
    {
     "data": {
      "text/plain": [
       "array([False, False, False,  True,  True,  True])"
      ]
     },
     "execution_count": 82,
     "metadata": {},
     "output_type": "execute_result"
    }
   ],
   "source": [
    "narr1>3"
   ]
  },
  {
   "cell_type": "code",
   "execution_count": 83,
   "id": "9bf8e289-3cdb-4692-b096-944b4bda0ed8",
   "metadata": {},
   "outputs": [
    {
     "name": "stdout",
     "output_type": "stream",
     "text": [
      "[[0 1 2]\n",
      " [3 4 5]]\n",
      "[[0 1]\n",
      " [2 3]\n",
      " [4 5]]\n"
     ]
    }
   ],
   "source": [
    "narr3 = np.arange(6).reshape(2,3)\n",
    "narr4 = np.arange(6).reshape(3,2)\n",
    "print(narr3)\n",
    "print(narr4)"
   ]
  },
  {
   "cell_type": "code",
   "execution_count": 84,
   "id": "1160ff65-dbe9-4c2f-a6fd-eee82fb0fe2b",
   "metadata": {},
   "outputs": [
    {
     "ename": "ValueError",
     "evalue": "operands could not be broadcast together with shapes (2,3) (3,2) ",
     "output_type": "error",
     "traceback": [
      "\u001b[1;31m---------------------------------------------------------------------------\u001b[0m",
      "\u001b[1;31mValueError\u001b[0m                                Traceback (most recent call last)",
      "Cell \u001b[1;32mIn[84], line 1\u001b[0m\n\u001b[1;32m----> 1\u001b[0m narr3 \u001b[38;5;241m*\u001b[39m narr4\n",
      "\u001b[1;31mValueError\u001b[0m: operands could not be broadcast together with shapes (2,3) (3,2) "
     ]
    }
   ],
   "source": [
    "narr3 * narr4"
   ]
  },
  {
   "cell_type": "code",
   "execution_count": 86,
   "id": "ac84430f-f5d7-46f3-9a49-5bec5bcbaac9",
   "metadata": {},
   "outputs": [],
   "source": [
    "# for multiplication in matrices m1xn1 = m2xn2 where as n1 = m2\n",
    "arr5 = narr3.dot(narr4)"
   ]
  },
  {
   "cell_type": "code",
   "execution_count": 87,
   "id": "e3a81128-9f5a-41da-a708-f360dc1ce5b3",
   "metadata": {},
   "outputs": [
    {
     "data": {
      "text/plain": [
       "array([[10, 13],\n",
       "       [28, 40]])"
      ]
     },
     "execution_count": 87,
     "metadata": {},
     "output_type": "execute_result"
    }
   ],
   "source": [
    "arr5"
   ]
  },
  {
   "cell_type": "code",
   "execution_count": 88,
   "id": "5900c22f-76c6-4204-a321-8aeaf6ed7312",
   "metadata": {},
   "outputs": [
    {
     "data": {
      "text/plain": [
       "40"
      ]
     },
     "execution_count": 88,
     "metadata": {},
     "output_type": "execute_result"
    }
   ],
   "source": [
    "arr5.max()"
   ]
  },
  {
   "cell_type": "code",
   "execution_count": 89,
   "id": "4d09d717-ac0f-456c-99fd-4f334541b64b",
   "metadata": {},
   "outputs": [
    {
     "data": {
      "text/plain": [
       "10"
      ]
     },
     "execution_count": 89,
     "metadata": {},
     "output_type": "execute_result"
    }
   ],
   "source": [
    "arr5.min()"
   ]
  },
  {
   "cell_type": "code",
   "execution_count": 90,
   "id": "718757b2-f688-4238-b5ac-ef0b9cd7fa97",
   "metadata": {},
   "outputs": [
    {
     "data": {
      "text/plain": [
       "array([10, 13])"
      ]
     },
     "execution_count": 90,
     "metadata": {},
     "output_type": "execute_result"
    }
   ],
   "source": [
    "# to get the min value row wise\n",
    "arr5.min(axis=0)"
   ]
  },
  {
   "cell_type": "code",
   "execution_count": 91,
   "id": "f7d7161a-16d1-4f6c-b5bb-111bc4fa7786",
   "metadata": {},
   "outputs": [
    {
     "data": {
      "text/plain": [
       "array([10, 28])"
      ]
     },
     "execution_count": 91,
     "metadata": {},
     "output_type": "execute_result"
    }
   ],
   "source": [
    "arr5.min(axis=1)"
   ]
  },
  {
   "cell_type": "code",
   "execution_count": 92,
   "id": "93b4dc6d-202b-4d58-8c93-29d2a5411a4f",
   "metadata": {},
   "outputs": [
    {
     "data": {
      "text/plain": [
       "array([13, 40])"
      ]
     },
     "execution_count": 92,
     "metadata": {},
     "output_type": "execute_result"
    }
   ],
   "source": [
    "arr5.max(axis=1)"
   ]
  },
  {
   "cell_type": "code",
   "execution_count": 93,
   "id": "8b9e9683-116c-4bab-bd56-0eeaa7e882ce",
   "metadata": {},
   "outputs": [
    {
     "data": {
      "text/plain": [
       "22.75"
      ]
     },
     "execution_count": 93,
     "metadata": {},
     "output_type": "execute_result"
    }
   ],
   "source": [
    "arr5.mean()"
   ]
  },
  {
   "cell_type": "code",
   "execution_count": 95,
   "id": "1142a131-969d-4116-84ab-836dfcba01ab",
   "metadata": {},
   "outputs": [
    {
     "data": {
      "text/plain": [
       "12.07010770457331"
      ]
     },
     "execution_count": 95,
     "metadata": {},
     "output_type": "execute_result"
    }
   ],
   "source": [
    "arr5.std()"
   ]
  },
  {
   "cell_type": "code",
   "execution_count": 96,
   "id": "ebcfd0dc-0346-42c2-afea-acaedc59f0da",
   "metadata": {},
   "outputs": [
    {
     "data": {
      "text/plain": [
       "145.6875"
      ]
     },
     "execution_count": 96,
     "metadata": {},
     "output_type": "execute_result"
    }
   ],
   "source": [
    "arr5.var()"
   ]
  },
  {
   "cell_type": "markdown",
   "id": "addaa2f3-e6af-4433-a341-87f3a662c742",
   "metadata": {},
   "source": [
    "## Reshaping Numpy Arrays"
   ]
  },
  {
   "cell_type": "code",
   "execution_count": 97,
   "id": "8203f3f4-a7ce-4f23-9d18-15abd95143ea",
   "metadata": {},
   "outputs": [
    {
     "data": {
      "text/plain": [
       "2"
      ]
     },
     "execution_count": 97,
     "metadata": {},
     "output_type": "execute_result"
    }
   ],
   "source": [
    "arr5.ndim"
   ]
  },
  {
   "cell_type": "code",
   "execution_count": 98,
   "id": "d167d844-73db-4719-ae42-97b8f56862eb",
   "metadata": {},
   "outputs": [
    {
     "data": {
      "text/plain": [
       "array([[10, 13],\n",
       "       [28, 40]])"
      ]
     },
     "execution_count": 98,
     "metadata": {},
     "output_type": "execute_result"
    }
   ],
   "source": [
    "arr5"
   ]
  },
  {
   "cell_type": "code",
   "execution_count": 101,
   "id": "49f70797-804b-4dc0-b4c9-e6a448416e88",
   "metadata": {},
   "outputs": [],
   "source": [
    "# to convert from higher dimension to one dimension\n",
    "arr6 = arr5.ravel()"
   ]
  },
  {
   "cell_type": "code",
   "execution_count": 102,
   "id": "02cf690f-6af2-425a-86f1-9fd7d3c88d83",
   "metadata": {},
   "outputs": [
    {
     "data": {
      "text/plain": [
       "array([10, 13, 28, 40])"
      ]
     },
     "execution_count": 102,
     "metadata": {},
     "output_type": "execute_result"
    }
   ],
   "source": [
    "arr6"
   ]
  },
  {
   "cell_type": "code",
   "execution_count": 103,
   "id": "a16b924c-e408-4d18-b0a1-119a1d0269a9",
   "metadata": {},
   "outputs": [
    {
     "data": {
      "text/plain": [
       "1"
      ]
     },
     "execution_count": 103,
     "metadata": {},
     "output_type": "execute_result"
    }
   ],
   "source": [
    "arr6.ndim"
   ]
  },
  {
   "cell_type": "code",
   "execution_count": 104,
   "id": "02e0ac81-aec8-49bd-87ec-bbacdcdfdfa6",
   "metadata": {},
   "outputs": [
    {
     "name": "stdout",
     "output_type": "stream",
     "text": [
      "[[10 28]\n",
      " [13 40]]\n"
     ]
    }
   ],
   "source": [
    "# Transpose\n",
    "print(arr5.transpose())"
   ]
  },
  {
   "cell_type": "code",
   "execution_count": 106,
   "id": "7908d28d-70d6-4eec-94c6-005acf2ee400",
   "metadata": {},
   "outputs": [
    {
     "name": "stdout",
     "output_type": "stream",
     "text": [
      "[[0 1]\n",
      " [2 3]]\n"
     ]
    }
   ],
   "source": [
    "# To stack \n",
    "narr6 = np.arange(4).reshape(2,2)\n",
    "print(narr6)"
   ]
  },
  {
   "cell_type": "code",
   "execution_count": 107,
   "id": "dc107736-9bce-4563-81ad-78b40f207c8d",
   "metadata": {},
   "outputs": [
    {
     "data": {
      "text/plain": [
       "array([[10, 13,  0,  1],\n",
       "       [28, 40,  2,  3]])"
      ]
     },
     "execution_count": 107,
     "metadata": {},
     "output_type": "execute_result"
    }
   ],
   "source": [
    "np.hstack((arr5,narr6))"
   ]
  },
  {
   "cell_type": "code",
   "execution_count": 110,
   "id": "414c3042-2533-4034-a410-c49621b52303",
   "metadata": {},
   "outputs": [
    {
     "name": "stdout",
     "output_type": "stream",
     "text": [
      "[[0 1 2]\n",
      " [3 4 5]\n",
      " [6 7 8]]\n",
      "[[0 1 2]\n",
      " [3 4 5]\n",
      " [6 7 8]]\n"
     ]
    }
   ],
   "source": [
    "narr7 = np.arange(9).reshape(3,3)\n",
    "narr8 = np.arange(9).reshape(3,3)\n",
    "print(narr7)\n",
    "print(narr8)"
   ]
  },
  {
   "cell_type": "code",
   "execution_count": 112,
   "id": "09f500ef-db0c-400b-9354-7454e516b8da",
   "metadata": {},
   "outputs": [
    {
     "data": {
      "text/plain": [
       "array([[0, 1, 2, 0, 1, 2],\n",
       "       [3, 4, 5, 3, 4, 5],\n",
       "       [6, 7, 8, 6, 7, 8]])"
      ]
     },
     "execution_count": 112,
     "metadata": {},
     "output_type": "execute_result"
    }
   ],
   "source": [
    "np.hstack((narr7,narr8))"
   ]
  },
  {
   "cell_type": "code",
   "execution_count": 113,
   "id": "d2687bb3-3efc-4cce-92bd-f6e3dafb0a4b",
   "metadata": {},
   "outputs": [
    {
     "data": {
      "text/plain": [
       "array([[0, 1, 2],\n",
       "       [3, 4, 5],\n",
       "       [6, 7, 8],\n",
       "       [0, 1, 2],\n",
       "       [3, 4, 5],\n",
       "       [6, 7, 8]])"
      ]
     },
     "execution_count": 113,
     "metadata": {},
     "output_type": "execute_result"
    }
   ],
   "source": [
    "np.vstack((narr7,narr8))"
   ]
  },
  {
   "cell_type": "code",
   "execution_count": 115,
   "id": "6c78fbba-a741-4c93-b6f0-e24267bdcd37",
   "metadata": {},
   "outputs": [
    {
     "data": {
      "text/plain": [
       "[array([[10],\n",
       "        [28]]),\n",
       " array([[13],\n",
       "        [40]])]"
      ]
     },
     "execution_count": 115,
     "metadata": {},
     "output_type": "execute_result"
    }
   ],
   "source": [
    "# splitting hsplit and v split\n",
    "np.hsplit(arr5,2)"
   ]
  },
  {
   "cell_type": "code",
   "execution_count": 117,
   "id": "4d3ec93d-4448-419e-b44a-75acfec10070",
   "metadata": {},
   "outputs": [
    {
     "data": {
      "text/plain": [
       "[array([[10, 13]]), array([[28, 40]])]"
      ]
     },
     "execution_count": 117,
     "metadata": {},
     "output_type": "execute_result"
    }
   ],
   "source": [
    "np.vsplit(arr5,2)"
   ]
  },
  {
   "cell_type": "code",
   "execution_count": null,
   "id": "8d0eb17a-5186-47fc-8efa-d797525f6776",
   "metadata": {},
   "outputs": [],
   "source": []
  }
 ],
 "metadata": {
  "kernelspec": {
   "display_name": "Python 3 (ipykernel)",
   "language": "python",
   "name": "python3"
  },
  "language_info": {
   "codemirror_mode": {
    "name": "ipython",
    "version": 3
   },
   "file_extension": ".py",
   "mimetype": "text/x-python",
   "name": "python",
   "nbconvert_exporter": "python",
   "pygments_lexer": "ipython3",
   "version": "3.12.4"
  }
 },
 "nbformat": 4,
 "nbformat_minor": 5
}
